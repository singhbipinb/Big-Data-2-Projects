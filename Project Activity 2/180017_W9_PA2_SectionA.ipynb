{
 "cells": [
  {
   "cell_type": "code",
   "execution_count": 1,
   "metadata": {},
   "outputs": [],
   "source": [
    "import pandas as pd\n",
    "import numpy as np\n",
    "import seaborn as sns\n",
    "import matplotlib.pyplot as plt\n",
    "%matplotlib inline\n",
    "import warnings\n",
    "warnings.filterwarnings('ignore')\n",
    "train=pd.read_csv('train_test.csv')"
   ]
  },
  {
   "cell_type": "code",
   "execution_count": 2,
   "metadata": {},
   "outputs": [
    {
     "data": {
      "text/html": [
       "<div>\n",
       "<style scoped>\n",
       "    .dataframe tbody tr th:only-of-type {\n",
       "        vertical-align: middle;\n",
       "    }\n",
       "\n",
       "    .dataframe tbody tr th {\n",
       "        vertical-align: top;\n",
       "    }\n",
       "\n",
       "    .dataframe thead th {\n",
       "        text-align: right;\n",
       "    }\n",
       "</style>\n",
       "<table border=\"1\" class=\"dataframe\">\n",
       "  <thead>\n",
       "    <tr style=\"text-align: right;\">\n",
       "      <th></th>\n",
       "      <th>Loan_ID</th>\n",
       "      <th>Gender</th>\n",
       "      <th>Married</th>\n",
       "      <th>Dependents</th>\n",
       "      <th>Education</th>\n",
       "      <th>Self_Employed</th>\n",
       "      <th>ApplicantIncome</th>\n",
       "      <th>CoapplicantIncome</th>\n",
       "      <th>LoanAmount</th>\n",
       "      <th>Loan_Amount_Term</th>\n",
       "      <th>Credit_History</th>\n",
       "      <th>Property_Area</th>\n",
       "      <th>Loan_Status</th>\n",
       "    </tr>\n",
       "  </thead>\n",
       "  <tbody>\n",
       "    <tr>\n",
       "      <th>0</th>\n",
       "      <td>LP001002</td>\n",
       "      <td>Male</td>\n",
       "      <td>No</td>\n",
       "      <td>0</td>\n",
       "      <td>Graduate</td>\n",
       "      <td>No</td>\n",
       "      <td>5849</td>\n",
       "      <td>0.0</td>\n",
       "      <td>NaN</td>\n",
       "      <td>360.0</td>\n",
       "      <td>1.0</td>\n",
       "      <td>Urban</td>\n",
       "      <td>Y</td>\n",
       "    </tr>\n",
       "    <tr>\n",
       "      <th>1</th>\n",
       "      <td>LP001003</td>\n",
       "      <td>Male</td>\n",
       "      <td>Yes</td>\n",
       "      <td>1</td>\n",
       "      <td>Graduate</td>\n",
       "      <td>No</td>\n",
       "      <td>4583</td>\n",
       "      <td>1508.0</td>\n",
       "      <td>128.0</td>\n",
       "      <td>360.0</td>\n",
       "      <td>1.0</td>\n",
       "      <td>Rural</td>\n",
       "      <td>N</td>\n",
       "    </tr>\n",
       "    <tr>\n",
       "      <th>2</th>\n",
       "      <td>LP001005</td>\n",
       "      <td>Male</td>\n",
       "      <td>Yes</td>\n",
       "      <td>0</td>\n",
       "      <td>Graduate</td>\n",
       "      <td>Yes</td>\n",
       "      <td>3000</td>\n",
       "      <td>0.0</td>\n",
       "      <td>66.0</td>\n",
       "      <td>360.0</td>\n",
       "      <td>1.0</td>\n",
       "      <td>Urban</td>\n",
       "      <td>Y</td>\n",
       "    </tr>\n",
       "    <tr>\n",
       "      <th>3</th>\n",
       "      <td>LP001006</td>\n",
       "      <td>Male</td>\n",
       "      <td>Yes</td>\n",
       "      <td>0</td>\n",
       "      <td>Not Graduate</td>\n",
       "      <td>No</td>\n",
       "      <td>2583</td>\n",
       "      <td>2358.0</td>\n",
       "      <td>120.0</td>\n",
       "      <td>360.0</td>\n",
       "      <td>1.0</td>\n",
       "      <td>Urban</td>\n",
       "      <td>Y</td>\n",
       "    </tr>\n",
       "    <tr>\n",
       "      <th>4</th>\n",
       "      <td>LP001008</td>\n",
       "      <td>Male</td>\n",
       "      <td>No</td>\n",
       "      <td>0</td>\n",
       "      <td>Graduate</td>\n",
       "      <td>No</td>\n",
       "      <td>6000</td>\n",
       "      <td>0.0</td>\n",
       "      <td>141.0</td>\n",
       "      <td>360.0</td>\n",
       "      <td>1.0</td>\n",
       "      <td>Urban</td>\n",
       "      <td>Y</td>\n",
       "    </tr>\n",
       "  </tbody>\n",
       "</table>\n",
       "</div>"
      ],
      "text/plain": [
       "    Loan_ID Gender Married Dependents     Education Self_Employed  \\\n",
       "0  LP001002   Male      No          0      Graduate            No   \n",
       "1  LP001003   Male     Yes          1      Graduate            No   \n",
       "2  LP001005   Male     Yes          0      Graduate           Yes   \n",
       "3  LP001006   Male     Yes          0  Not Graduate            No   \n",
       "4  LP001008   Male      No          0      Graduate            No   \n",
       "\n",
       "   ApplicantIncome  CoapplicantIncome  LoanAmount  Loan_Amount_Term  \\\n",
       "0             5849                0.0         NaN             360.0   \n",
       "1             4583             1508.0       128.0             360.0   \n",
       "2             3000                0.0        66.0             360.0   \n",
       "3             2583             2358.0       120.0             360.0   \n",
       "4             6000                0.0       141.0             360.0   \n",
       "\n",
       "   Credit_History Property_Area Loan_Status  \n",
       "0             1.0         Urban           Y  \n",
       "1             1.0         Rural           N  \n",
       "2             1.0         Urban           Y  \n",
       "3             1.0         Urban           Y  \n",
       "4             1.0         Urban           Y  "
      ]
     },
     "execution_count": 2,
     "metadata": {},
     "output_type": "execute_result"
    }
   ],
   "source": [
    "train.head()"
   ]
  },
  {
   "cell_type": "code",
   "execution_count": 3,
   "metadata": {},
   "outputs": [
    {
     "data": {
      "text/plain": [
       "Index(['Loan_ID', 'Gender', 'Married', 'Dependents', 'Education',\n",
       "       'Self_Employed', 'ApplicantIncome', 'CoapplicantIncome', 'LoanAmount',\n",
       "       'Loan_Amount_Term', 'Credit_History', 'Property_Area', 'Loan_Status'],\n",
       "      dtype='object')"
      ]
     },
     "execution_count": 3,
     "metadata": {},
     "output_type": "execute_result"
    }
   ],
   "source": [
    "train.columns"
   ]
  },
  {
   "cell_type": "code",
   "execution_count": 4,
   "metadata": {},
   "outputs": [
    {
     "data": {
      "text/plain": [
       "Loan_ID               object\n",
       "Gender                object\n",
       "Married               object\n",
       "Dependents            object\n",
       "Education             object\n",
       "Self_Employed         object\n",
       "ApplicantIncome        int64\n",
       "CoapplicantIncome    float64\n",
       "LoanAmount           float64\n",
       "Loan_Amount_Term     float64\n",
       "Credit_History       float64\n",
       "Property_Area         object\n",
       "Loan_Status           object\n",
       "dtype: object"
      ]
     },
     "execution_count": 4,
     "metadata": {},
     "output_type": "execute_result"
    }
   ],
   "source": [
    "train.dtypes"
   ]
  },
  {
   "cell_type": "code",
   "execution_count": 5,
   "metadata": {},
   "outputs": [
    {
     "name": "stdout",
     "output_type": "stream",
     "text": [
      "Train dataset shape  (981, 13)\n"
     ]
    },
    {
     "data": {
      "text/html": [
       "<div>\n",
       "<style scoped>\n",
       "    .dataframe tbody tr th:only-of-type {\n",
       "        vertical-align: middle;\n",
       "    }\n",
       "\n",
       "    .dataframe tbody tr th {\n",
       "        vertical-align: top;\n",
       "    }\n",
       "\n",
       "    .dataframe thead th {\n",
       "        text-align: right;\n",
       "    }\n",
       "</style>\n",
       "<table border=\"1\" class=\"dataframe\">\n",
       "  <thead>\n",
       "    <tr style=\"text-align: right;\">\n",
       "      <th></th>\n",
       "      <th>Loan_ID</th>\n",
       "      <th>Gender</th>\n",
       "      <th>Married</th>\n",
       "      <th>Dependents</th>\n",
       "      <th>Education</th>\n",
       "      <th>Self_Employed</th>\n",
       "      <th>ApplicantIncome</th>\n",
       "      <th>CoapplicantIncome</th>\n",
       "      <th>LoanAmount</th>\n",
       "      <th>Loan_Amount_Term</th>\n",
       "      <th>Credit_History</th>\n",
       "      <th>Property_Area</th>\n",
       "      <th>Loan_Status</th>\n",
       "    </tr>\n",
       "  </thead>\n",
       "  <tbody>\n",
       "    <tr>\n",
       "      <th>0</th>\n",
       "      <td>LP001002</td>\n",
       "      <td>Male</td>\n",
       "      <td>No</td>\n",
       "      <td>0</td>\n",
       "      <td>Graduate</td>\n",
       "      <td>No</td>\n",
       "      <td>5849</td>\n",
       "      <td>0.0</td>\n",
       "      <td>NaN</td>\n",
       "      <td>360.0</td>\n",
       "      <td>1.0</td>\n",
       "      <td>Urban</td>\n",
       "      <td>Y</td>\n",
       "    </tr>\n",
       "    <tr>\n",
       "      <th>1</th>\n",
       "      <td>LP001003</td>\n",
       "      <td>Male</td>\n",
       "      <td>Yes</td>\n",
       "      <td>1</td>\n",
       "      <td>Graduate</td>\n",
       "      <td>No</td>\n",
       "      <td>4583</td>\n",
       "      <td>1508.0</td>\n",
       "      <td>128.0</td>\n",
       "      <td>360.0</td>\n",
       "      <td>1.0</td>\n",
       "      <td>Rural</td>\n",
       "      <td>N</td>\n",
       "    </tr>\n",
       "    <tr>\n",
       "      <th>2</th>\n",
       "      <td>LP001005</td>\n",
       "      <td>Male</td>\n",
       "      <td>Yes</td>\n",
       "      <td>0</td>\n",
       "      <td>Graduate</td>\n",
       "      <td>Yes</td>\n",
       "      <td>3000</td>\n",
       "      <td>0.0</td>\n",
       "      <td>66.0</td>\n",
       "      <td>360.0</td>\n",
       "      <td>1.0</td>\n",
       "      <td>Urban</td>\n",
       "      <td>Y</td>\n",
       "    </tr>\n",
       "    <tr>\n",
       "      <th>3</th>\n",
       "      <td>LP001006</td>\n",
       "      <td>Male</td>\n",
       "      <td>Yes</td>\n",
       "      <td>0</td>\n",
       "      <td>Not Graduate</td>\n",
       "      <td>No</td>\n",
       "      <td>2583</td>\n",
       "      <td>2358.0</td>\n",
       "      <td>120.0</td>\n",
       "      <td>360.0</td>\n",
       "      <td>1.0</td>\n",
       "      <td>Urban</td>\n",
       "      <td>Y</td>\n",
       "    </tr>\n",
       "    <tr>\n",
       "      <th>4</th>\n",
       "      <td>LP001008</td>\n",
       "      <td>Male</td>\n",
       "      <td>No</td>\n",
       "      <td>0</td>\n",
       "      <td>Graduate</td>\n",
       "      <td>No</td>\n",
       "      <td>6000</td>\n",
       "      <td>0.0</td>\n",
       "      <td>141.0</td>\n",
       "      <td>360.0</td>\n",
       "      <td>1.0</td>\n",
       "      <td>Urban</td>\n",
       "      <td>Y</td>\n",
       "    </tr>\n",
       "  </tbody>\n",
       "</table>\n",
       "</div>"
      ],
      "text/plain": [
       "    Loan_ID Gender Married Dependents     Education Self_Employed  \\\n",
       "0  LP001002   Male      No          0      Graduate            No   \n",
       "1  LP001003   Male     Yes          1      Graduate            No   \n",
       "2  LP001005   Male     Yes          0      Graduate           Yes   \n",
       "3  LP001006   Male     Yes          0  Not Graduate            No   \n",
       "4  LP001008   Male      No          0      Graduate            No   \n",
       "\n",
       "   ApplicantIncome  CoapplicantIncome  LoanAmount  Loan_Amount_Term  \\\n",
       "0             5849                0.0         NaN             360.0   \n",
       "1             4583             1508.0       128.0             360.0   \n",
       "2             3000                0.0        66.0             360.0   \n",
       "3             2583             2358.0       120.0             360.0   \n",
       "4             6000                0.0       141.0             360.0   \n",
       "\n",
       "   Credit_History Property_Area Loan_Status  \n",
       "0             1.0         Urban           Y  \n",
       "1             1.0         Rural           N  \n",
       "2             1.0         Urban           Y  \n",
       "3             1.0         Urban           Y  \n",
       "4             1.0         Urban           Y  "
      ]
     },
     "execution_count": 5,
     "metadata": {},
     "output_type": "execute_result"
    }
   ],
   "source": [
    "print(\"Train dataset shape \", train.shape)\n",
    "train.head()"
   ]
  },
  {
   "cell_type": "code",
   "execution_count": 6,
   "metadata": {},
   "outputs": [
    {
     "data": {
      "text/plain": [
       "614"
      ]
     },
     "execution_count": 6,
     "metadata": {},
     "output_type": "execute_result"
    }
   ],
   "source": [
    "train[\"Loan_Status\"].count()"
   ]
  },
  {
   "cell_type": "code",
   "execution_count": 7,
   "metadata": {},
   "outputs": [
    {
     "data": {
      "text/plain": [
       "Y    422\n",
       "N    192\n",
       "Name: Loan_Status, dtype: int64"
      ]
     },
     "execution_count": 7,
     "metadata": {},
     "output_type": "execute_result"
    }
   ],
   "source": [
    "train[\"Loan_Status\"].value_counts()"
   ]
  },
  {
   "cell_type": "code",
   "execution_count": 8,
   "metadata": {},
   "outputs": [
    {
     "data": {
      "text/plain": [
       "Male      775\n",
       "Female    182\n",
       "Name: Gender, dtype: int64"
      ]
     },
     "execution_count": 8,
     "metadata": {},
     "output_type": "execute_result"
    }
   ],
   "source": [
    "train[\"Gender\"].value_counts()"
   ]
  },
  {
   "cell_type": "code",
   "execution_count": 9,
   "metadata": {},
   "outputs": [
    {
     "data": {
      "text/plain": [
       "Y    68.729642\n",
       "N    31.270358\n",
       "Name: Loan_Status, dtype: float64"
      ]
     },
     "execution_count": 9,
     "metadata": {},
     "output_type": "execute_result"
    }
   ],
   "source": [
    "train['Loan_Status'].value_counts(normalize=True)*100"
   ]
  },
  {
   "cell_type": "code",
   "execution_count": 10,
   "metadata": {},
   "outputs": [
    {
     "data": {
      "image/png": "[encoded data removed]",
      "text/plain": [
       "<Figure size 432x288 with 1 Axes>"
      ]
     },
     "metadata": {
      "needs_background": "light"
     },
     "output_type": "display_data"
    }
   ],
   "source": [
    "train['Loan_Status'].value_counts(normalize=True).plot.bar(title='Loan Status')\n",
    "plt.ylabel('Loan Applicants ')\n",
    "plt.xlabel('Status')\n",
    "plt.show()"
   ]
  },
  {
   "cell_type": "code",
   "execution_count": 11,
   "metadata": {},
   "outputs": [
    {
     "name": "stdout",
     "output_type": "stream",
     "text": [
      "Question 1(a): Find out the number of male and female in loan applicants data.\n"
     ]
    },
    {
     "data": {
      "image/png": "[encoded data removed]",
      "text/plain": [
       "<Figure size 432x288 with 1 Axes>"
      ]
     },
     "metadata": {
      "needs_background": "light"
     },
     "output_type": "display_data"
    },
    {
     "data": {
      "text/plain": [
       "Male      80.982236\n",
       "Female    19.017764\n",
       "Name: Gender, dtype: float64"
      ]
     },
     "execution_count": 11,
     "metadata": {},
     "output_type": "execute_result"
    }
   ],
   "source": [
    "train['Gender'].value_counts(normalize=True).plot.bar(title ='Gender of loan applicant data')\n",
    "print(\"Question 1(a): Find out the number of male and female in loan applicants data.\")\n",
    "plt.xlabel('Gender')\n",
    "plt.ylabel('Number of loan applicant')\n",
    "plt.show()\n",
    "train['Gender'].value_counts(normalize=True)*100"
   ]
  },
  {
   "cell_type": "code",
   "execution_count": 13,
   "metadata": {},
   "outputs": [
    {
     "name": "stdout",
     "output_type": "stream",
     "text": [
      "QUESTION 1-b: Find out the number of married and unmarried loan applicants.\n"
     ]
    },
    {
     "data": {
      "image/png": "[encoded data removed]",
      "text/plain": [
       "<Figure size 432x288 with 1 Axes>"
      ]
     },
     "metadata": {
      "needs_background": "light"
     },
     "output_type": "display_data"
    },
    {
     "data": {
      "text/plain": [
       "No     87.149028\n",
       "Yes    12.850972\n",
       "Name: Self_Employed, dtype: float64"
      ]
     },
     "execution_count": 13,
     "metadata": {},
     "output_type": "execute_result"
    }
   ],
   "source": [
    "print(\"QUESTION 1-b: Find out the number of married and unmarried loan applicants.\")\n",
    "train['Married'].value_counts(normalize=True).plot.bar(title='Martial Status of Loan applicant')\n",
    "plt.xlabel('Martial Status')\n",
    "plt.ylabel('Percentage')\n",
    "plt.show()\n",
    "train['Self_Employed'].value_counts(normalize=True)*100"
   ]
  },
  {
   "cell_type": "code",
   "execution_count": 14,
   "metadata": {},
   "outputs": [
    {
     "name": "stdout",
     "output_type": "stream",
     "text": [
      "Question 1 (c) Find out the overall dependent status in the dataset.\n"
     ]
    },
    {
     "data": {
      "image/png": "[encoded data removed]",
      "text/plain": [
       "<Figure size 432x288 with 1 Axes>"
      ]
     },
     "metadata": {
      "needs_background": "light"
     },
     "output_type": "display_data"
    }
   ],
   "source": [
    "print(\"Question 1 (c) Find out the overall dependent status in the dataset.\")\n",
    "train['Self_Employed'].value_counts(normalize=True).plot.bar(title='Dependent Status')\n",
    "plt.xlabel('Dependent Status')\n",
    "plt.ylabel('Number of loan applicant')\n",
    "plt.show()"
   ]
  },
  {
   "cell_type": "code",
   "execution_count": 15,
   "metadata": {},
   "outputs": [
    {
     "name": "stdout",
     "output_type": "stream",
     "text": [
      "Question 1(c) conclusion: \n",
      "Among 582 people only 14% are Self_Employed and rest of the 86% are Not_Self_Employed\n"
     ]
    },
    {
     "data": {
      "text/plain": [
       "Graduate        77.777778\n",
       "Not Graduate    22.222222\n",
       "Name: Education, dtype: float64"
      ]
     },
     "execution_count": 15,
     "metadata": {},
     "output_type": "execute_result"
    }
   ],
   "source": [
    "print(\"Question 1(c) conclusion: \")\n",
    "print(\"Among 582 people only 14% are Self_Employed and rest of the 86% are Not_Self_Employed\")\n",
    "train[\"Education\"].value_counts()\n",
    "train[\"Education\"].value_counts(normalize=True)*100"
   ]
  },
  {
   "cell_type": "code",
   "execution_count": 16,
   "metadata": {},
   "outputs": [
    {
     "name": "stdout",
     "output_type": "stream",
     "text": [
      " Question 1(d) Find the count how many loan applicants are graduate and non graduate.\n"
     ]
    },
    {
     "data": {
      "image/png": "[encoded data removed]",
      "text/plain": [
       "<Figure size 432x288 with 1 Axes>"
      ]
     },
     "metadata": {
      "needs_background": "light"
     },
     "output_type": "display_data"
    }
   ],
   "source": [
    "\n",
    "print(\" Question 1(d) Find the count how many loan applicants are graduate and non graduate.\")\n",
    "train[\"Education\"].value_counts(normalize=True).plot.bar(title = \"Education\")\n",
    "plt.xlabel('Dependent Status')\n",
    "plt.ylabel('Percentage')\n",
    "plt.show()"
   ]
  },
  {
   "cell_type": "code",
   "execution_count": 17,
   "metadata": {},
   "outputs": [
    {
     "data": {
      "text/plain": [
       "981"
      ]
     },
     "execution_count": 17,
     "metadata": {},
     "output_type": "execute_result"
    }
   ],
   "source": [
    "train[\"Property_Area\"].count()"
   ]
  },
  {
   "cell_type": "code",
   "execution_count": 18,
   "metadata": {},
   "outputs": [
    {
     "data": {
      "text/plain": [
       "Semiurban    349\n",
       "Urban        342\n",
       "Rural        290\n",
       "Name: Property_Area, dtype: int64"
      ]
     },
     "execution_count": 18,
     "metadata": {},
     "output_type": "execute_result"
    }
   ],
   "source": [
    "train[\"Property_Area\"].value_counts()"
   ]
  },
  {
   "cell_type": "code",
   "execution_count": 19,
   "metadata": {},
   "outputs": [
    {
     "data": {
      "text/plain": [
       "Semiurban    35.575943\n",
       "Urban        34.862385\n",
       "Rural        29.561672\n",
       "Name: Property_Area, dtype: float64"
      ]
     },
     "execution_count": 19,
     "metadata": {},
     "output_type": "execute_result"
    }
   ],
   "source": [
    "train[\"Property_Area\"].value_counts(normalize=True)*100"
   ]
  },
  {
   "cell_type": "code",
   "execution_count": 20,
   "metadata": {},
   "outputs": [
    {
     "name": "stdout",
     "output_type": "stream",
     "text": [
      "Question 1(e) Find out the count how many loan applicants property lies in urban, rural and semi-urban areas.\n"
     ]
    },
    {
     "data": {
      "image/png": "[encoded data removed]",
      "text/plain": [
       "<Figure size 432x288 with 1 Axes>"
      ]
     },
     "metadata": {
      "needs_background": "light"
     },
     "output_type": "display_data"
    }
   ],
   "source": [
    "print(\"Question 1(e) Find out the count how many loan applicants property lies in urban, rural and semi-urban areas.\")\n",
    "train[\"Property_Area\"].value_counts(normalize=True).plot.bar(title=\"Property_Area\")\n",
    "plt.ylabel('Percentage')\n",
    "plt.show()"
   ]
  },
  {
   "cell_type": "code",
   "execution_count": 21,
   "metadata": {},
   "outputs": [
    {
     "name": "stdout",
     "output_type": "stream",
     "text": [
      "Question 1(E) conclusion\n",
      "38% people from Semiurban area\n",
      "33% people from Urban area\n",
      "29% people from Rural area\n"
     ]
    }
   ],
   "source": [
    "print(\"Question 1(E) conclusion\")\n",
    "print(\"38% people from Semiurban area\")\n",
    "print(\"33% people from Urban area\")\n",
    "print(\"29% people from Rural area\")"
   ]
  },
  {
   "cell_type": "code",
   "execution_count": 22,
   "metadata": {},
   "outputs": [
    {
     "data": {
      "text/plain": [
       "902"
      ]
     },
     "execution_count": 22,
     "metadata": {},
     "output_type": "execute_result"
    }
   ],
   "source": [
    "train[\"Credit_History\"].count()"
   ]
  },
  {
   "cell_type": "code",
   "execution_count": 23,
   "metadata": {},
   "outputs": [
    {
     "data": {
      "text/plain": [
       "1.0    754\n",
       "0.0    148\n",
       "Name: Credit_History, dtype: int64"
      ]
     },
     "execution_count": 23,
     "metadata": {},
     "output_type": "execute_result"
    }
   ],
   "source": [
    "train[\"Credit_History\"].value_counts()"
   ]
  },
  {
   "cell_type": "code",
   "execution_count": 24,
   "metadata": {},
   "outputs": [
    {
     "data": {
      "text/plain": [
       "1.0    83.592018\n",
       "0.0    16.407982\n",
       "Name: Credit_History, dtype: float64"
      ]
     },
     "execution_count": 24,
     "metadata": {},
     "output_type": "execute_result"
    }
   ],
   "source": [
    "train['Credit_History'].value_counts(normalize=True)*100"
   ]
  },
  {
   "cell_type": "code",
   "execution_count": 25,
   "metadata": {},
   "outputs": [
    {
     "data": {
      "image/png": "[encoded data removed]",
      "text/plain": [
       "<Figure size 432x288 with 1 Axes>"
      ]
     },
     "metadata": {
      "needs_background": "light"
     },
     "output_type": "display_data"
    }
   ],
   "source": [
    "train['Credit_History'].value_counts(normalize=True).plot.bar(title='Credit_History')\n",
    "plt.xlabel('Debt')\n",
    "plt.ylabel('Percentage')\n",
    "plt.show()"
   ]
  },
  {
   "cell_type": "code",
   "execution_count": 26,
   "metadata": {},
   "outputs": [
    {
     "name": "stdout",
     "output_type": "stream",
     "text": [
      "Question 3\n",
      " Also visualize and plot the Question-1 based on Loan_status of loan applicant (Multi variable analysis).\n"
     ]
    }
   ],
   "source": [
    "print(\"Question 3\")\n",
    "print(\" Also visualize and plot the Question-1 based on Loan_status of loan applicant (Multi variable analysis).\")"
   ]
  },
  {
   "cell_type": "code",
   "execution_count": 27,
   "metadata": {},
   "outputs": [
    {
     "name": "stdout",
     "output_type": "stream",
     "text": [
      "ApplicantIncome distribution\n"
     ]
    },
    {
     "data": {
      "image/png": "[encoded data removed]",
      "text/plain": [
       "<Figure size 1152x360 with 2 Axes>"
      ]
     },
     "metadata": {
      "needs_background": "light"
     },
     "output_type": "display_data"
    }
   ],
   "source": [
    "print(\"ApplicantIncome distribution\")\n",
    "plt.figure(1)\n",
    "plt.subplot(121)\n",
    "sns.distplot(train[\"ApplicantIncome\"]);\n",
    "plt.subplot(122)\n",
    "train[\"ApplicantIncome\"].plot.box(figsize=(16,5))\n",
    "plt.show()"
   ]
  },
  {
   "cell_type": "code",
   "execution_count": 28,
   "metadata": {},
   "outputs": [
    {
     "data": {
      "image/png": "[encoded data removed]",
      "text/plain": [
       "<Figure size 432x288 with 1 Axes>"
      ]
     },
     "metadata": {
      "needs_background": "light"
     },
     "output_type": "display_data"
    }
   ],
   "source": [
    "\n",
    "train.boxplot(column='ApplicantIncome',by=\"Education\" )\n",
    "plt.suptitle(\" \")\n",
    "plt.show()"
   ]
  },
  {
   "cell_type": "code",
   "execution_count": 29,
   "metadata": {},
   "outputs": [
    {
     "name": "stdout",
     "output_type": "stream",
     "text": [
      "Coapplicant Income distribution\n"
     ]
    },
    {
     "data": {
      "image/png": "[encoded data removed]",
      "text/plain": [
       "<Figure size 1152x360 with 2 Axes>"
      ]
     },
     "metadata": {
      "needs_background": "light"
     },
     "output_type": "display_data"
    }
   ],
   "source": [
    "print(\"Coapplicant Income distribution\")\n",
    "plt.figure(1)\n",
    "plt.subplot(121)\n",
    "sns.distplot(train[\"CoapplicantIncome\"]);\n",
    "plt.subplot(122)\n",
    "train[\"CoapplicantIncome\"].plot.box(figsize=(16,5))\n",
    "plt.show()"
   ]
  },
  {
   "cell_type": "code",
   "execution_count": 30,
   "metadata": {},
   "outputs": [
    {
     "name": "stdout",
     "output_type": "stream",
     "text": [
      "Loan Amount Variable\n"
     ]
    },
    {
     "data": {
      "image/png": "[encoded data removed]",
      "text/plain": [
       "<Figure size 1152x360 with 2 Axes>"
      ]
     },
     "metadata": {
      "needs_background": "light"
     },
     "output_type": "display_data"
    }
   ],
   "source": [
    "\n",
    "print(\"Loan Amount Variable\")\n",
    "plt.figure(1)\n",
    "plt.subplot(121)\n",
    "df=train.dropna()\n",
    "sns.distplot(df['LoanAmount']);\n",
    "plt.subplot(122)\n",
    "train['LoanAmount'].plot.box(figsize=(16,5))\n",
    "plt.show()"
   ]
  },
  {
   "cell_type": "code",
   "execution_count": 31,
   "metadata": {},
   "outputs": [
    {
     "name": "stdout",
     "output_type": "stream",
     "text": [
      "Loan Amount Term Distribution\n"
     ]
    },
    {
     "data": {
      "image/png": "[encoded data removed]",
      "text/plain": [
       "<Figure size 1152x360 with 2 Axes>"
      ]
     },
     "metadata": {
      "needs_background": "light"
     },
     "output_type": "display_data"
    }
   ],
   "source": [
    "print(\"Loan Amount Term Distribution\")\n",
    "plt.figure(1)\n",
    "plt.subplot(121)\n",
    "df = train.dropna()\n",
    "sns.distplot(df[\"Loan_Amount_Term\"]);\n",
    "plt.subplot(122)\n",
    "df[\"Loan_Amount_Term\"].plot.box(figsize=(16,5))\n",
    "plt.show()"
   ]
  },
  {
   "cell_type": "code",
   "execution_count": 32,
   "metadata": {},
   "outputs": [
    {
     "name": "stdout",
     "output_type": "stream",
     "text": [
      "Question 4\n",
      "Relation between Loan_Status and Gender\n",
      "Loan_Status    N    Y\n",
      "Gender               \n",
      "Female        37   75\n",
      "Male         150  339\n"
     ]
    },
    {
     "data": {
      "image/png": "[encoded data removed]",
      "text/plain": [
       "<Figure size 288x288 with 1 Axes>"
      ]
     },
     "metadata": {
      "needs_background": "light"
     },
     "output_type": "display_data"
    }
   ],
   "source": [
    "print(\"Question 4\")\n",
    "print(\"Relation between Loan_Status and Gender\")\n",
    "print(pd.crosstab(train[\"Gender\"],train[\"Loan_Status\"]))\n",
    "Gender = pd.crosstab(train[\"Gender\"],train[\"Loan_Status\"])\n",
    "Gender.div(Gender.sum(1).astype(float),axis=0).plot(kind=\"bar\",stacked=True,figsize=(4,4))\n",
    "plt.xlabel(\"Gender\")\n",
    "plt.ylabel(\"Percentage\")\n",
    "plt.show()"
   ]
  },
  {
   "cell_type": "code",
   "execution_count": 33,
   "metadata": {},
   "outputs": [
    {
     "name": "stdout",
     "output_type": "stream",
     "text": [
      "Conclusion of Relation between Loan_Status and Gender\n",
      "Number of Female whose Loan was approved : 75\n",
      "Number of Male whose Loan was approved :339 \n",
      "Number of Female whose Loan was not0 approved : 37\n",
      "Number of Female whose Loan was approved : 150\n",
      "Proportion of Male applicants is higher for the approved loans.\n"
     ]
    }
   ],
   "source": [
    "print(\"Conclusion of Relation between Loan_Status and Gender\")\n",
    "print(\"Number of Female whose Loan was approved : 75\")\n",
    "print(\"Number of Male whose Loan was approved :339 \")\n",
    "print(\"Number of Female whose Loan was not0 approved : 37\")\n",
    "print(\"Number of Female whose Loan was approved : 150\")\n",
    "print(\"Proportion of Male applicants is higher for the approved loans.\")"
   ]
  },
  {
   "cell_type": "code",
   "execution_count": 34,
   "metadata": {},
   "outputs": [
    {
     "name": "stdout",
     "output_type": "stream",
     "text": [
      "Relation between Loan_Status and Married status\n",
      "Loan_Status    N    Y\n",
      "Married              \n",
      "No            79  134\n",
      "Yes          113  285\n"
     ]
    },
    {
     "data": {
      "image/png": "[encoded data removed]",
      "text/plain": [
       "<Figure size 288x288 with 1 Axes>"
      ]
     },
     "metadata": {
      "needs_background": "light"
     },
     "output_type": "display_data"
    }
   ],
   "source": [
    "print(\"Relation between Loan_Status and Married status\")\n",
    "print(pd.crosstab(train[\"Married\"],train[\"Loan_Status\"]))\n",
    "Married=pd.crosstab(train[\"Married\"],train[\"Loan_Status\"])\n",
    "Married.div(Married.sum(1).astype(float),axis=0).plot(kind=\"bar\",stacked=True,figsize=(4,4))\n",
    "plt.xlabel(\"Married\")\n",
    "plt.ylabel(\"Percentage\")\n",
    "plt.show()"
   ]
  },
  {
   "cell_type": "code",
   "execution_count": 35,
   "metadata": {},
   "outputs": [
    {
     "name": "stdout",
     "output_type": "stream",
     "text": [
      "Conclusion of relation between Loan_Status and Married status\n",
      "Number of married people whose Loan was approved : 285\n",
      "Number of married people whose Loan was not approved : 113\n",
      "Number of unmarried people whose Loan was approed : 134\n",
      "Number of unmarried people whose Loan was not approed : 79\n",
      "Proportion of Married applicants is higher for the approved loans.\n"
     ]
    }
   ],
   "source": [
    "print(\"Conclusion of relation between Loan_Status and Married status\")\n",
    "print(\"Number of married people whose Loan was approved : 285\")\n",
    "print(\"Number of married people whose Loan was not approved : 113\")\n",
    "print(\"Number of unmarried people whose Loan was approed : 134\")\n",
    "print(\"Number of unmarried people whose Loan was not approed : 79\")\n",
    "print(\"Proportion of Married applicants is higher for the approved loans.\")"
   ]
  },
  {
   "cell_type": "code",
   "execution_count": 36,
   "metadata": {},
   "outputs": [
    {
     "name": "stdout",
     "output_type": "stream",
     "text": [
      "Relation between Loan_Status and Dependents\n",
      "Loan_Status    N    Y\n",
      "Dependents           \n",
      "0            107  238\n",
      "1             36   66\n",
      "2             25   76\n",
      "3+            18   33\n"
     ]
    },
    {
     "data": {
      "image/png": "[encoded data removed]",
      "text/plain": [
       "<Figure size 288x288 with 1 Axes>"
      ]
     },
     "metadata": {
      "needs_background": "light"
     },
     "output_type": "display_data"
    }
   ],
   "source": [
    "print(\"Relation between Loan_Status and Dependents\")\n",
    "print(pd.crosstab(train['Dependents'],train[\"Loan_Status\"]))\n",
    "Dependents = pd.crosstab(train['Dependents'],train[\"Loan_Status\"])\n",
    "Dependents.div(Dependents.sum(1).astype(float),axis=0).plot(kind=\"bar\",stacked=True,figsize=(4,4))\n",
    "plt.xlabel(\"Dependents\")\n",
    "plt.ylabel(\"Percentage\")\n",
    "plt.show()"
   ]
  },
  {
   "cell_type": "code",
   "execution_count": 37,
   "metadata": {},
   "outputs": [
    {
     "name": "stdout",
     "output_type": "stream",
     "text": [
      "Conclusion of relation between Loan_Status and Dependents\n",
      "Number of dependents on the loan applicant : 0 and Loan was approed : 238\n",
      "Number of dependents on the loan applicant : 0 and Loan was not approed : 107\n",
      "Number of dependents on the loan applicant : 1 and Loan was approed : 66\n",
      "Number of dependents on the loan applicant : 1 and Loan was not approed : 36\n",
      "Number of dependents on the loan applicant : 2 and Loan was approed : 76\n",
      "Number of dependents on the loan applicant : 2 and Loan was not approed : 25\n",
      "Number of dependents on the loan applicant : 3+ and Loan was approed : 33\n",
      "Number of dependents on the loan applicant : 3+ and Loan was not approed : 18\n",
      "Distribution of applicants with 1 or 3+ dependents is similar across both the categories of Loan_Status.\n"
     ]
    }
   ],
   "source": [
    "print(\"Conclusion of relation between Loan_Status and Dependents\")\n",
    "print(\"Number of dependents on the loan applicant : 0 and Loan was approed : 238\")\n",
    "print(\"Number of dependents on the loan applicant : 0 and Loan was not approed : 107\")\n",
    "print(\"Number of dependents on the loan applicant : 1 and Loan was approed : 66\")\n",
    "print(\"Number of dependents on the loan applicant : 1 and Loan was not approed : 36\")\n",
    "print(\"Number of dependents on the loan applicant : 2 and Loan was approed : 76\")\n",
    "print(\"Number of dependents on the loan applicant : 2 and Loan was not approed : 25\")\n",
    "print(\"Number of dependents on the loan applicant : 3+ and Loan was approed : 33\")\n",
    "print(\"Number of dependents on the loan applicant : 3+ and Loan was not approed : 18\")\n",
    "print(\"Distribution of applicants with 1 or 3+ dependents is similar across both the categories of Loan_Status.\")"
   ]
  },
  {
   "cell_type": "code",
   "execution_count": 38,
   "metadata": {},
   "outputs": [
    {
     "name": "stdout",
     "output_type": "stream",
     "text": [
      "Relation between Loan_Status and Education\n",
      "Loan_Status     N    Y\n",
      "Education             \n",
      "Graduate      140  340\n",
      "Not Graduate   52   82\n"
     ]
    },
    {
     "data": {
      "image/png": "[encoded data removed]",
      "text/plain": [
       "<Figure size 288x288 with 1 Axes>"
      ]
     },
     "metadata": {
      "needs_background": "light"
     },
     "output_type": "display_data"
    }
   ],
   "source": [
    "print(\"Relation between Loan_Status and Education\")\n",
    "print(pd.crosstab(train[\"Education\"],train[\"Loan_Status\"]))\n",
    "Education = pd.crosstab(train[\"Education\"],train[\"Loan_Status\"])\n",
    "Education.div(Education.sum(1).astype(float),axis=0).plot(kind=\"bar\",stacked=True,figsize=(4,4))\n",
    "plt.xlabel(\"Education\")\n",
    "plt.ylabel(\"Percentage\")\n",
    "plt.show()"
   ]
  },
  {
   "cell_type": "code",
   "execution_count": 39,
   "metadata": {},
   "outputs": [
    {
     "name": "stdout",
     "output_type": "stream",
     "text": [
      "Conclusion of relation between Loan_Status and Education.\n",
      "Number of people who are Graduate and Loan was approed : 340\n",
      "Number of people who are Graduate and Loan was no approed : 140\n",
      "Number of people who are Not Graduate and Loan was approed : 82\n",
      "Number of people who are Not Graduate and Loan was not approed : 52\n",
      "Proportion of Graduate applicants is higher for the approved loans.\n"
     ]
    }
   ],
   "source": [
    "print(\"Conclusion of relation between Loan_Status and Education.\")\n",
    "print(\"Number of people who are Graduate and Loan was approed : 340\")\n",
    "print(\"Number of people who are Graduate and Loan was no approed : 140\")\n",
    "print(\"Number of people who are Not Graduate and Loan was approed : 82\")\n",
    "print(\"Number of people who are Not Graduate and Loan was not approed : 52\")\n",
    "print(\"Proportion of Graduate applicants is higher for the approved loans.\")"
   ]
  },
  {
   "cell_type": "code",
   "execution_count": 40,
   "metadata": {},
   "outputs": [
    {
     "name": "stdout",
     "output_type": "stream",
     "text": [
      "Relation between Loan_Status and Self_Employed\n",
      "Loan_Status      N    Y\n",
      "Self_Employed          \n",
      "No             157  343\n",
      "Yes             26   56\n"
     ]
    },
    {
     "data": {
      "image/png": "[encoded data removed]",
      "text/plain": [
       "<Figure size 288x288 with 1 Axes>"
      ]
     },
     "metadata": {
      "needs_background": "light"
     },
     "output_type": "display_data"
    }
   ],
   "source": [
    "print(\"Relation between Loan_Status and Self_Employed\")\n",
    "print(pd.crosstab(train[\"Self_Employed\"],train[\"Loan_Status\"]))\n",
    "SelfEmployed = pd.crosstab(train[\"Self_Employed\"],train[\"Loan_Status\"])\n",
    "SelfEmployed.div(SelfEmployed.sum(1).astype(float),axis=0).plot(kind=\"bar\",stacked=True,figsize=(4,4))\n",
    "plt.xlabel(\"Self_Employed\")\n",
    "plt.ylabel(\"Percentage\")\n",
    "plt.show()"
   ]
  },
  {
   "cell_type": "code",
   "execution_count": 41,
   "metadata": {},
   "outputs": [
    {
     "name": "stdout",
     "output_type": "stream",
     "text": [
      "Relation between Loan_Status and Self_Employed\n",
      "People who are Self_Employed and Loan was approed : 56\n",
      "People who are Self_Employed and Loan was not approed : 26\n",
      "People who are not Self_Employed and Loan was approed : 343\n",
      "People who are not Self_Employed and Loan was not approed : 157\n",
      "There is nothing significant we can infer from Self_Employed vs Loan_Status plot.\n"
     ]
    }
   ],
   "source": [
    "print(\"Relation between Loan_Status and Self_Employed\")\n",
    "print(\"People who are Self_Employed and Loan was approed : 56\")\n",
    "print(\"People who are Self_Employed and Loan was not approed : 26\")\n",
    "print(\"People who are not Self_Employed and Loan was approed : 343\")\n",
    "print(\"People who are not Self_Employed and Loan was not approed : 157\")\n",
    "print(\"There is nothing significant we can infer from Self_Employed vs Loan_Status plot.\")"
   ]
  },
  {
   "cell_type": "code",
   "execution_count": 42,
   "metadata": {},
   "outputs": [
    {
     "name": "stdout",
     "output_type": "stream",
     "text": [
      "Relation between Loan_Status and Credit_History\n",
      "Loan_Status      N    Y\n",
      "Credit_History         \n",
      "0.0             82    7\n",
      "1.0             97  378\n"
     ]
    },
    {
     "data": {
      "image/png": "[encoded data removed]",
      "text/plain": [
       "<Figure size 288x288 with 1 Axes>"
      ]
     },
     "metadata": {
      "needs_background": "light"
     },
     "output_type": "display_data"
    }
   ],
   "source": [
    "print(\"Relation between Loan_Status and Credit_History\")\n",
    "print(pd.crosstab(train[\"Credit_History\"],train[\"Loan_Status\"]))\n",
    "CreditHistory = pd.crosstab(train[\"Credit_History\"],train[\"Loan_Status\"])\n",
    "CreditHistory.div(CreditHistory.sum(1).astype(float),axis=0).plot(kind=\"bar\",stacked=True,figsize=(4,4))\n",
    "plt.xlabel(\"Credit_History\")\n",
    "plt.ylabel(\"Percentage\")\n",
    "plt.show()"
   ]
  },
  {
   "cell_type": "code",
   "execution_count": 43,
   "metadata": {},
   "outputs": [
    {
     "name": "stdout",
     "output_type": "stream",
     "text": [
      "Conclusion relation between Loan_Status and Credit_History\n",
      "People with credit history as 1 and loan was approved : 378\n",
      "People with credit history as 1 and loan was not approved : 97\n",
      "People with credit history as 0 and loan was approved : 7\n",
      "People with credit history as 0 and loan was not approved : 82\n",
      "It seems people with credit history as 1 are more likely to get their loans approved.\n"
     ]
    }
   ],
   "source": [
    "print(\"Conclusion relation between Loan_Status and Credit_History\")\n",
    "print(\"People with credit history as 1 and loan was approved : 378\")\n",
    "print(\"People with credit history as 1 and loan was not approved : 97\")\n",
    "print(\"People with credit history as 0 and loan was approved : 7\")\n",
    "print(\"People with credit history as 0 and loan was not approved : 82\")\n",
    "print(\"It seems people with credit history as 1 are more likely to get their loans approved.\")"
   ]
  },
  {
   "cell_type": "code",
   "execution_count": 45,
   "metadata": {},
   "outputs": [
    {
     "name": "stdout",
     "output_type": "stream",
     "text": [
      "Relation between Loan_Status and Property_Area\n",
      "Loan_Status     N    Y\n",
      "Property_Area         \n",
      "Rural          69  110\n",
      "Semiurban      54  179\n",
      "Urban          69  133\n"
     ]
    },
    {
     "data": {
      "image/png": "[encoded data removed]",
      "text/plain": [
       "<Figure size 288x288 with 1 Axes>"
      ]
     },
     "metadata": {
      "needs_background": "light"
     },
     "output_type": "display_data"
    }
   ],
   "source": [
    "print(\"Relation between Loan_Status and Property_Area\")\n",
    "print(pd.crosstab(train[\"Property_Area\"],train[\"Loan_Status\"]))\n",
    "PropertyArea = pd.crosstab(train[\"Property_Area\"],train[\"Loan_Status\"])\n",
    "PropertyArea.div(PropertyArea.sum(1).astype(float),axis=0).plot(kind=\"bar\",stacked=True,figsize=(4,4))\n",
    "plt.xlabel(\"Property_Area\")\n",
    "plt.ylabel(\"Loan_Status\")\n",
    "plt.show()"
   ]
  },
  {
   "cell_type": "code",
   "execution_count": 46,
   "metadata": {},
   "outputs": [
    {
     "name": "stdout",
     "output_type": "stream",
     "text": [
      "Relation between Loan_Status and Property_Area\n",
      "People who are from Rural area and loan was approved : 110\n",
      "People who are from Rural area and loan was not approved : 69\n",
      "People who are from Semiurban area and loan was approved : 179\n",
      "People who are from Semiurban area and loan was not approved : 54\n",
      "People who are from Urban area and loan was approved : 133\n",
      "People who are from Semiurban area and loan was not approved : 69\n",
      "Proportion of loans getting approved in semiurban area is higher as compared to that in rural or urban areas\n"
     ]
    }
   ],
   "source": [
    "print(\"Relation between Loan_Status and Property_Area\")\n",
    "print(\"People who are from Rural area and loan was approved : 110\")\n",
    "print(\"People who are from Rural area and loan was not approved : 69\")\n",
    "print(\"People who are from Semiurban area and loan was approved : 179\")\n",
    "print(\"People who are from Semiurban area and loan was not approved : 54\")\n",
    "print(\"People who are from Urban area and loan was approved : 133\")\n",
    "print(\"People who are from Semiurban area and loan was not approved : 69\")\n",
    "print(\"Proportion of loans getting approved in semiurban area is higher as compared to that in rural or urban areas\")"
   ]
  },
  {
   "cell_type": "code",
   "execution_count": 47,
   "metadata": {},
   "outputs": [
    {
     "name": "stdout",
     "output_type": "stream",
     "text": [
      "Relation between Loan_Status and Income\n"
     ]
    },
    {
     "data": {
      "text/plain": [
       "Text(0, 0.5, ' Applicant Income')"
      ]
     },
     "execution_count": 47,
     "metadata": {},
     "output_type": "execute_result"
    },
    {
     "data": {
      "image/png": "[encoded data removed]",
      "text/plain": [
       "<Figure size 432x288 with 1 Axes>"
      ]
     },
     "metadata": {
      "needs_background": "light"
     },
     "output_type": "display_data"
    }
   ],
   "source": [
    "print(\"Relation between Loan_Status and Income\")\n",
    "train.groupby(\"Loan_Status\")['ApplicantIncome'].mean().plot.bar(title= \" Relation between ApplicaantIncome and Loan Status\")\n",
    "plt.ylabel(\" Applicant Income\")"
   ]
  },
  {
   "cell_type": "code",
   "execution_count": 48,
   "metadata": {},
   "outputs": [
    {
     "name": "stdout",
     "output_type": "stream",
     "text": [
      "Loan_Status   N    Y\n",
      "Income_bin          \n",
      "Low          26   57\n",
      "Average      51  123\n",
      "High         32   79\n",
      "Very high    39   73\n"
     ]
    },
    {
     "data": {
      "image/png": "[encoded data removed]",
      "text/plain": [
       "<Figure size 288x288 with 1 Axes>"
      ]
     },
     "metadata": {
      "needs_background": "light"
     },
     "output_type": "display_data"
    }
   ],
   "source": [
    "bins=[0,2500,4000,6000,81000]\n",
    "group=['Low','Average','High', 'Very high']\n",
    "train['Income_bin']=pd.cut(df['ApplicantIncome'],bins,labels=group)\n",
    "print(pd.crosstab(train[\"Income_bin\"],train[\"Loan_Status\"]))\n",
    "Income_bin = pd.crosstab(train[\"Income_bin\"],train[\"Loan_Status\"])\n",
    "Income_bin.div(Income_bin.sum(1).astype(float),axis=0).plot(kind=\"bar\",stacked=True,figsize=(4,4))\n",
    "plt.xlabel(\"ApplicantIncome\")\n",
    "plt.ylabel(\"Percentage\")\n",
    "plt.show()"
   ]
  },
  {
   "cell_type": "code",
   "execution_count": 49,
   "metadata": {},
   "outputs": [
    {
     "name": "stdout",
     "output_type": "stream",
     "text": [
      "Applicant income does not affect the chances of loan approval \n"
     ]
    }
   ],
   "source": [
    "print(\"Applicant income does not affect the chances of loan approval \")"
   ]
  },
  {
   "cell_type": "code",
   "execution_count": 50,
   "metadata": {},
   "outputs": [],
   "source": [
    "\n",
    "bins=[0,1000,3000,42000]\n",
    "group =['Low','Average','High']\n",
    "train['CoapplicantIncome_bin']=pd.cut(df[\"CoapplicantIncome\"],bins,labels=group)"
   ]
  },
  {
   "cell_type": "code",
   "execution_count": 51,
   "metadata": {},
   "outputs": [
    {
     "name": "stdout",
     "output_type": "stream",
     "text": [
      "Loan_Status             N    Y\n",
      "CoapplicantIncome_bin         \n",
      "Low                     3   15\n",
      "Average                46  123\n",
      "High                   24   53\n"
     ]
    },
    {
     "data": {
      "image/png": "[encoded data removed]",
      "text/plain": [
       "<Figure size 288x288 with 1 Axes>"
      ]
     },
     "metadata": {
      "needs_background": "light"
     },
     "output_type": "display_data"
    }
   ],
   "source": [
    "print(pd.crosstab(train[\"CoapplicantIncome_bin\"],train[\"Loan_Status\"]))\n",
    "CoapplicantIncome_Bin = pd.crosstab(train[\"CoapplicantIncome_bin\"],train[\"Loan_Status\"])\n",
    "CoapplicantIncome_Bin.div(CoapplicantIncome_Bin.sum(1).astype(float),axis=0).plot(kind='bar',stacked=True,figsize=(4,4))\n",
    "plt.xlabel(\"CoapplicantIncome\")\n",
    "plt.ylabel(\"Percentage\")\n",
    "plt.show()"
   ]
  },
  {
   "cell_type": "code",
   "execution_count": 52,
   "metadata": {},
   "outputs": [
    {
     "name": "stdout",
     "output_type": "stream",
     "text": [
      "It shows that if coapplicant’s income is less the chances of loan approval are high. But this does not look right. The possible reason behind this may be that most of the applicants don’t have any coapplicant so the coapplicant income for such applicants is 0 and hence the loan approval is not dependent on it. So we can make a new variable in which we will combine the applicant’s and coapplicant’s income to visualize the combined effect of income on loan approval.\n"
     ]
    }
   ],
   "source": [
    "print(\"It shows that if coapplicant’s income is less the chances of loan approval are high. But this does not look right. The possible reason behind this may be that most of the applicants don’t have any coapplicant so the coapplicant income for such applicants is 0 and hence the loan approval is not dependent on it. So we can make a new variable in which we will combine the applicant’s and coapplicant’s income to visualize the combined effect of income on loan approval.\")"
   ]
  },
  {
   "cell_type": "code",
   "execution_count": 53,
   "metadata": {},
   "outputs": [],
   "source": [
    "train[\"TotalIncome\"]=train[\"ApplicantIncome\"]+train[\"CoapplicantIncome\"]"
   ]
  },
  {
   "cell_type": "code",
   "execution_count": 54,
   "metadata": {},
   "outputs": [
    {
     "name": "stdout",
     "output_type": "stream",
     "text": [
      "Loan_Status       N    Y\n",
      "TotalIncome_bin         \n",
      "Low              14   10\n",
      "Average          32   87\n",
      "High             65  159\n",
      "Very High        81  166\n"
     ]
    },
    {
     "data": {
      "image/png": "[encoded data removed]",
      "text/plain": [
       "<Figure size 144x144 with 1 Axes>"
      ]
     },
     "metadata": {
      "needs_background": "light"
     },
     "output_type": "display_data"
    }
   ],
   "source": [
    "bins =[0,2500,4000,6000,81000]\n",
    "group=['Low','Average','High','Very High']\n",
    "train[\"TotalIncome_bin\"]=pd.cut(train[\"TotalIncome\"],bins,labels=group)\n",
    "print(pd.crosstab(train[\"TotalIncome_bin\"],train[\"Loan_Status\"]))\n",
    "TotalIncome = pd.crosstab(train[\"TotalIncome_bin\"],train[\"Loan_Status\"])\n",
    "TotalIncome.div(TotalIncome.sum(1).astype(float),axis=0).plot(kind='bar',stacked=True,figsize=(2,2))\n",
    "plt.xlabel(\"TotalIncome\")\n",
    "plt.ylabel(\"Percentage\")\n",
    "plt.show()"
   ]
  },
  {
   "cell_type": "code",
   "execution_count": 55,
   "metadata": {},
   "outputs": [
    {
     "name": "stdout",
     "output_type": "stream",
     "text": [
      "Proportion of loans getting approved for applicants having low Total_Income is very less as compared to that of applicants with Average, High and Very High Income.\n"
     ]
    }
   ],
   "source": [
    "print(\"Proportion of loans getting approved for applicants having low Total_Income is very less as compared to that of applicants with Average, High and Very High Income.\")"
   ]
  },
  {
   "cell_type": "code",
   "execution_count": 56,
   "metadata": {},
   "outputs": [
    {
     "name": "stdout",
     "output_type": "stream",
     "text": [
      "Whose TotalIncome was Low and loan was approved : 10\n",
      "Whose TotalIncome was Low and loan was not approved : 14\n",
      "Whose TotalIncome was Aerage and loan was apprvoed : 87\n",
      "Whose TotalIncome was Average and loan was not approved : 32\n",
      "Whose TotalIncome was High and loan was approved : 159\n",
      "Whose TotalIncome was High and loan was not approved : 65\n",
      "Whose TotalIncome was Very High and loan was approved : 166\n",
      "Whose TotalIncome was Very High and loan was not approed : 81\n"
     ]
    }
   ],
   "source": [
    "print(\"Whose TotalIncome was Low and loan was approved : 10\")\n",
    "print(\"Whose TotalIncome was Low and loan was not approved : 14\")\n",
    "print(\"Whose TotalIncome was Aerage and loan was apprvoed : 87\")\n",
    "print(\"Whose TotalIncome was Average and loan was not approved : 32\")\n",
    "print(\"Whose TotalIncome was High and loan was approved : 159\")\n",
    "print(\"Whose TotalIncome was High and loan was not approved : 65\")\n",
    "print(\"Whose TotalIncome was Very High and loan was approved : 166\")\n",
    "print(\"Whose TotalIncome was Very High and loan was not approed : 81\")"
   ]
  },
  {
   "cell_type": "code",
   "execution_count": 57,
   "metadata": {},
   "outputs": [
    {
     "name": "stdout",
     "output_type": "stream",
     "text": [
      "Relation between Loan_Status and Loan Amount\n"
     ]
    }
   ],
   "source": [
    "print(\"Relation between Loan_Status and Loan Amount\")"
   ]
  },
  {
   "cell_type": "code",
   "execution_count": 58,
   "metadata": {},
   "outputs": [
    {
     "name": "stdout",
     "output_type": "stream",
     "text": [
      "Loan_Status      N    Y\n",
      "LoanAmount_bin         \n",
      "Low             38   86\n",
      "Average         83  207\n",
      "High            27   39\n"
     ]
    },
    {
     "data": {
      "image/png": "[encoded data removed]",
      "text/plain": [
       "<Figure size 288x288 with 1 Axes>"
      ]
     },
     "metadata": {
      "needs_background": "light"
     },
     "output_type": "display_data"
    }
   ],
   "source": [
    "bins = [0,100,200,700]\n",
    "group=['Low','Average','High']\n",
    "train[\"LoanAmount_bin\"]=pd.cut(df[\"LoanAmount\"],bins,labels=group)\n",
    "print(pd.crosstab(train[\"LoanAmount_bin\"],train[\"Loan_Status\"]))\n",
    "LoanAmount=pd.crosstab(train[\"LoanAmount_bin\"],train[\"Loan_Status\"])\n",
    "LoanAmount.div(LoanAmount.sum(1).astype(float),axis=0).plot(kind='bar',stacked=True,figsize=(4,4))\n",
    "plt.xlabel(\"LoanAmount\")\n",
    "plt.ylabel(\"Percentage\")\n",
    "plt.show()"
   ]
  },
  {
   "cell_type": "code",
   "execution_count": 59,
   "metadata": {},
   "outputs": [
    {
     "name": "stdout",
     "output_type": "stream",
     "text": [
      "Whose Loan Amount was low and Loan was approved : 86\n",
      "Whose Loan Amount was low and Loan was not approved : 38\n",
      "Whose Loan Amount was Average and Loan was approved : 207\n",
      "Whose Loan Amount was Average and Loan was not approved : 83\n",
      "Whose Loan Amount was High and Loan was approved : 39\n",
      "Whose Loan Amount was High and Loan was not approved : 27\n",
      "Conclusion:\n",
      " The proportion of approved loans is higher for Low and Average Loan Amount as compared to that of High Loan Amount\n"
     ]
    }
   ],
   "source": [
    "print(\"Whose Loan Amount was low and Loan was approved : 86\")\n",
    "print(\"Whose Loan Amount was low and Loan was not approved : 38\")\n",
    "print(\"Whose Loan Amount was Average and Loan was approved : 207\")\n",
    "print(\"Whose Loan Amount was Average and Loan was not approved : 83\")\n",
    "print(\"Whose Loan Amount was High and Loan was approved : 39\")\n",
    "print(\"Whose Loan Amount was High and Loan was not approved : 27\")\n",
    "print(\"Conclusion:\")\n",
    "print(\" The proportion of approved loans is higher for Low and Average Loan Amount as compared to that of High Loan Amount\")"
   ]
  },
  {
   "cell_type": "code",
   "execution_count": 60,
   "metadata": {},
   "outputs": [],
   "source": [
    "train=train.drop([\"Income_bin\",\"CoapplicantIncome_bin\",\"LoanAmount_bin\",\"TotalIncome\",\"TotalIncome_bin\"],axis=1)"
   ]
  },
  {
   "cell_type": "code",
   "execution_count": 62,
   "metadata": {},
   "outputs": [
    {
     "data": {
      "image/png": "[encoded data removed]",
      "text/plain": [
       "<Figure size 720x864 with 2 Axes>"
      ]
     },
     "metadata": {
      "needs_background": "light"
     },
     "output_type": "display_data"
    }
   ],
   "source": [
    "train['Dependents'].replace('3+',3,inplace=True)\n",
    "train['Loan_Status'].replace('N', 0,inplace=True)\n",
    "train['Loan_Status'].replace('Y', 1,inplace=True)\n",
    "matrix = train.corr()\n",
    "f, ax = plt.subplots(figsize=(10, 12))\n",
    "sns.heatmap(matrix, vmax=.8, square=True, cmap=\"BuPu\",annot=True);"
   ]
  },
  {
   "cell_type": "code",
   "execution_count": 63,
   "metadata": {},
   "outputs": [
    {
     "name": "stdout",
     "output_type": "stream",
     "text": [
      "We will use the heat map to visualize the correlation. Heatmaps visualize data through variations in coloring. The variables with darker color means their correlation is more.\n",
      "We see that the most correlated variables are (ApplicantIncome - LoanAmount) and (Credit_History - Loan_Status).\n"
     ]
    }
   ],
   "source": [
    "print(\"We will use the heat map to visualize the correlation. Heatmaps visualize data through variations in coloring. The variables with darker color means their correlation is more.\")\n",
    "print(\"We see that the most correlated variables are (ApplicantIncome - LoanAmount) and (Credit_History - Loan_Status).\")"
   ]
  },
  {
   "cell_type": "code",
   "execution_count": null,
   "metadata": {},
   "outputs": [],
   "source": []
  }
 ],
 "metadata": {
  "kernelspec": {
   "display_name": "Python 3",
   "language": "python",
   "name": "python3"
  },
  "language_info": {
   "codemirror_mode": {
    "name": "ipython",
    "version": 3
   },
   "file_extension": ".py",
   "mimetype": "text/x-python",
   "name": "python",
   "nbconvert_exporter": "python",
   "pygments_lexer": "ipython3",
   "version": "3.8.5"
  }
 },
 "nbformat": 4,
 "nbformat_minor": 4
}
